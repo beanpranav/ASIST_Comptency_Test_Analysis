{
  "nbformat": 4,
  "nbformat_minor": 0,
  "metadata": {
    "colab": {
      "name": "CompetencyTestAnalysis.ipynb",
      "provenance": [],
      "collapsed_sections": []
    },
    "kernelspec": {
      "name": "python3",
      "display_name": "Python 3"
    }
  },
  "cells": [
    {
      "cell_type": "markdown",
      "metadata": {
        "id": "TjjV5GUC_Mfi"
      },
      "source": [
        "# Setups and Data"
      ]
    },
    {
      "cell_type": "code",
      "metadata": {
        "id": "7FrKuOcCqyyv"
      },
      "source": [
        "# imports\n",
        "import os\n",
        "import json  \n",
        "import pandas as pd \n",
        "pd.options.display.float_format = '{:20,.2f}'.format\n",
        "import numpy as np\n",
        "from datetime import datetime, date, timedelta"
      ],
      "execution_count": 1,
      "outputs": []
    },
    {
      "cell_type": "code",
      "metadata": {
        "id": "d04IMgrWOlPe",
        "outputId": "f128335a-c0cd-4914-9dad-873956f6ae36",
        "colab": {
          "base_uri": "https://localhost:8080/",
          "height": 35
        }
      },
      "source": [
        "# mount appropriate google drive and authenticate using instructions below\n",
        "# this will show you the file system on the left under the folder icon\n",
        "from google.colab import drive\n",
        "drive.mount('/content/drive')\n",
        "\n",
        "import sys\n",
        "path_to_my_drive_folder = \"/content/drive/My Drive/ASIST/Analysis\" \n",
        "sys.path.append(path_to_my_drive_folder)\n",
        "\n",
        "import functions as f  # import functions for processing metadata"
      ],
      "execution_count": 2,
      "outputs": [
        {
          "output_type": "stream",
          "text": [
            "Mounted at /content/drive\n"
          ],
          "name": "stdout"
        }
      ]
    },
    {
      "cell_type": "code",
      "metadata": {
        "id": "8aEdkpsmAQy2"
      },
      "source": [
        "# Populate identifiers for different message and topic types\n",
        "# see message_summary.md for details: \n",
        "# https://drive.google.com/drive/u/1/folders/1QqY861SUTdQkCP2WelJbm4WNTOnlk97A\n",
        "\n",
        "trial_identifier = '\"message_type\":\"trial\"'\n",
        "score_identifier = '\"topic\":\"observations/events/scoreboard\"'\n",
        "location_identifier = '\"topic\":\"observations/events/player/location\"'\n",
        "triage_identifier =  '\"topic\":\"observations/events/player/triage\"'\n",
        "mission_identifier = '\"topic\":\"observations/events/mission\"'\n",
        "competencyTask_identifier = '\"topic\":\"observations/events/competency/task\"'\n",
        "jumped_identifier = '\"topic\":\"observations/events/player/jumped\"'"
      ],
      "execution_count": 3,
      "outputs": []
    },
    {
      "cell_type": "code",
      "metadata": {
        "id": "EfqBFoLXmPbY"
      },
      "source": [
        "# use the file system to copy and paste the exact filepath for the .metadata file you wish to open\n",
        "# location that stores all .metadata files from participant competency tests\n",
        "competency_dir = '/content/drive/My Drive/ASIST/Analysis/CompetencyData' # REPLACE with your directory path"
      ],
      "execution_count": 4,
      "outputs": []
    },
    {
      "cell_type": "markdown",
      "metadata": {
        "id": "PoLcrimACxjF"
      },
      "source": [
        "# Competency Test Data Analysis"
      ]
    },
    {
      "cell_type": "code",
      "metadata": {
        "id": "s_7bNbkE6aYH"
      },
      "source": [
        "# Create dataframe with task completion times: participant x task_id \n",
        "df = pd.DataFrame(index=range(0,16))\n",
        "\n",
        "for subdir, dirs, files in os.walk(competency_dir):\n",
        "  for file in files:\n",
        "    filepath = subdir + os.sep + file \n",
        "    id = file.split('.')[0]\n",
        "    messages = f.loadMetadata(filepath)\n",
        "    timing = f.competencyTestState(messages, competencyTask_identifier)\n",
        "    df = pd.concat([df, timing['timeSpent']], axis=1)\n",
        "    df = df.rename(columns={'timeSpent': id})\n",
        "\n",
        "df.index.name = 'task_id'\n",
        "df = df.loc[1:14]\n",
        "df.loc['total'] = df.sum()\n",
        "\n",
        "# manually add 2 tasks times for rescue skills \n",
        "# saving victims is homogeneous and predetermined in this version \n",
        "df.loc[15] = 7.5\n",
        "df.loc[16] = 15\n",
        "\n",
        "df = df.reindex(sorted(df.columns), axis=1)\n",
        "# df"
      ],
      "execution_count": 36,
      "outputs": []
    },
    {
      "cell_type": "code",
      "metadata": {
        "id": "9lppNGarvDfi",
        "outputId": "3fa1c291-a41a-4128-9a2b-20e097f21841",
        "colab": {
          "base_uri": "https://localhost:8080/",
          "height": 283
        }
      },
      "source": [
        "# read skill requirements for each subtask (external file; manually created)\n",
        "skill_req = f.readDfFromGSheetTab('competency_data_analysis','competency_skills')\n",
        "skill_req = skill_req.iloc[:-1]\n",
        "skill_req['task_id'] = skill_req['task_id'].astype(float)\n",
        "\n",
        "# prep participant completion times\n",
        "dt = df.drop('total').reset_index()\n",
        "dt['task_id'] = dt['task_id'].astype(float)\n",
        "\n",
        "# create system of equations\n",
        "# 4 eqns are generated by collapsing competency tasks times by unique search skill combos assessed in each task \n",
        "x = pd.merge(skill_req, dt, on='task_id').set_index('task_id')\n",
        "x = x.drop(columns=['task_name']).apply(pd.to_numeric)\n",
        "eq = x.groupby('unique_skills_assessed')[x.columns[1:]].sum()  \n",
        "eq = eq.loc[1:] # drop redundant col\n",
        "\n",
        "score = pd.DataFrame(columns=eq.columns[0:6])\n",
        "for p in eq.columns[-6:]:\n",
        "  score.loc[p] = np.linalg.solve(eq[eq.columns[0:6]].to_numpy(dtype=np.float),eq[p].to_numpy(dtype=np.float))\n",
        "score = score.T\n",
        "score.loc['aggregate_time'] = df.loc['total']\n",
        "\n",
        "f.writeDfToGSheetTab('competency_data_analysis', 'skill_estimates', score)\n",
        "score"
      ],
      "execution_count": 38,
      "outputs": [
        {
          "output_type": "stream",
          "text": [
            "   Reading GSheet: competency_data_analysis > competency_skills ...\n",
            "   Writing GSheet: competency_data_analysis > skill_estimates ...\n"
          ],
          "name": "stdout"
        },
        {
          "output_type": "execute_result",
          "data": {
            "text/html": [
              "<div>\n",
              "<style scoped>\n",
              "    .dataframe tbody tr th:only-of-type {\n",
              "        vertical-align: middle;\n",
              "    }\n",
              "\n",
              "    .dataframe tbody tr th {\n",
              "        vertical-align: top;\n",
              "    }\n",
              "\n",
              "    .dataframe thead th {\n",
              "        text-align: right;\n",
              "    }\n",
              "</style>\n",
              "<table border=\"1\" class=\"dataframe\">\n",
              "  <thead>\n",
              "    <tr style=\"text-align: right;\">\n",
              "      <th></th>\n",
              "      <th>c17</th>\n",
              "      <th>c18</th>\n",
              "      <th>c19</th>\n",
              "      <th>c21</th>\n",
              "      <th>c22</th>\n",
              "      <th>c25</th>\n",
              "    </tr>\n",
              "  </thead>\n",
              "  <tbody>\n",
              "    <tr>\n",
              "      <th>physical_search_walk</th>\n",
              "      <td>0.21</td>\n",
              "      <td>0.25</td>\n",
              "      <td>0.23</td>\n",
              "      <td>0.36</td>\n",
              "      <td>0.25</td>\n",
              "      <td>0.52</td>\n",
              "    </tr>\n",
              "    <tr>\n",
              "      <th>physical_search_obstacle</th>\n",
              "      <td>0.36</td>\n",
              "      <td>-0.39</td>\n",
              "      <td>0.17</td>\n",
              "      <td>0.11</td>\n",
              "      <td>0.87</td>\n",
              "      <td>-1.02</td>\n",
              "    </tr>\n",
              "    <tr>\n",
              "      <th>cognitive_search_pathing_decision</th>\n",
              "      <td>-5.55</td>\n",
              "      <td>-8.00</td>\n",
              "      <td>-2.61</td>\n",
              "      <td>-0.35</td>\n",
              "      <td>0.48</td>\n",
              "      <td>-4.78</td>\n",
              "    </tr>\n",
              "    <tr>\n",
              "      <th>cognitive_search_knowledge_based</th>\n",
              "      <td>2.60</td>\n",
              "      <td>1.74</td>\n",
              "      <td>3.58</td>\n",
              "      <td>7.70</td>\n",
              "      <td>2.59</td>\n",
              "      <td>16.10</td>\n",
              "    </tr>\n",
              "    <tr>\n",
              "      <th>rescue_green</th>\n",
              "      <td>7.50</td>\n",
              "      <td>7.50</td>\n",
              "      <td>7.50</td>\n",
              "      <td>7.50</td>\n",
              "      <td>7.50</td>\n",
              "      <td>7.50</td>\n",
              "    </tr>\n",
              "    <tr>\n",
              "      <th>rescue_yellow</th>\n",
              "      <td>15.00</td>\n",
              "      <td>15.00</td>\n",
              "      <td>15.00</td>\n",
              "      <td>15.00</td>\n",
              "      <td>15.00</td>\n",
              "      <td>15.00</td>\n",
              "    </tr>\n",
              "    <tr>\n",
              "      <th>aggregate_time</th>\n",
              "      <td>189.49</td>\n",
              "      <td>170.44</td>\n",
              "      <td>182.25</td>\n",
              "      <td>388.75</td>\n",
              "      <td>229.60</td>\n",
              "      <td>393.24</td>\n",
              "    </tr>\n",
              "  </tbody>\n",
              "</table>\n",
              "</div>"
            ],
            "text/plain": [
              "                                                   c17  ...                  c25\n",
              "physical_search_walk                              0.21  ...                 0.52\n",
              "physical_search_obstacle                          0.36  ...                -1.02\n",
              "cognitive_search_pathing_decision                -5.55  ...                -4.78\n",
              "cognitive_search_knowledge_based                  2.60  ...                16.10\n",
              "rescue_green                                      7.50  ...                 7.50\n",
              "rescue_yellow                                    15.00  ...                15.00\n",
              "aggregate_time                                  189.49  ...               393.24\n",
              "\n",
              "[7 rows x 6 columns]"
            ]
          },
          "metadata": {
            "tags": []
          },
          "execution_count": 38
        }
      ]
    },
    {
      "cell_type": "markdown",
      "metadata": {
        "id": "Z-auvO9j5xvP"
      },
      "source": [
        "# Interpretation of Skill Estimates\n",
        "- Each cell indicates the a skill index in terms of time impact on performance for each instance of skill is used during a task. \n",
        "- Example 1: walk = 0.36 means this player requires addition 0.36s for each step they need to take.\n",
        "- Example 2: obstacle = -0.39 means this player saves 0.39s for each obstacle they jump over (may indicate they are better at jumping over 3-4 blocks as against walking 3-4 blocks)\n",
        "- Note rescue skills are static by tasks design. In the future this may be varied across participants."
      ]
    },
    {
      "cell_type": "code",
      "metadata": {
        "id": "-9nivGciPTr1"
      },
      "source": [
        ""
      ],
      "execution_count": null,
      "outputs": []
    }
  ]
}